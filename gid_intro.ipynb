{
 "cells": [
  {
   "cell_type": "code",
   "execution_count": null,
   "metadata": {
    "button": false,
    "collapsed": false,
    "deletable": true,
    "new_sheet": false,
    "run_control": {
     "read_only": false
    }
   },
   "outputs": [],
   "source": [
    "import pandas as pd\n",
    "import numpy as np\n",
    "import plotly\n",
    "from plotly.graph_objs import *\n",
    "plotly.offline.init_notebook_mode()"
   ]
  },
  {
   "cell_type": "code",
   "execution_count": null,
   "metadata": {
    "button": false,
    "collapsed": false,
    "deletable": true,
    "new_sheet": false,
    "run_control": {
     "read_only": false
    },
    "scrolled": true
   },
   "outputs": [],
   "source": [
    "# Import GID data\n",
    "df = pd.read_csv('./data/get_it_done_311_requests_datasd.csv', low_memory=False)"
   ]
  },
  {
   "cell_type": "code",
   "execution_count": null,
   "metadata": {
    "button": false,
    "collapsed": false,
    "deletable": true,
    "new_sheet": false,
    "run_control": {
     "read_only": false
    }
   },
   "outputs": [],
   "source": [
    "# List columns\n",
    "df.columns"
   ]
  },
  {
   "cell_type": "code",
   "execution_count": null,
   "metadata": {
    "button": false,
    "collapsed": false,
    "deletable": true,
    "new_sheet": false,
    "run_control": {
     "read_only": false
    }
   },
   "outputs": [],
   "source": [
    "# Show subset of data\n",
    "df.head(5)"
   ]
  },
  {
   "cell_type": "code",
   "execution_count": null,
   "metadata": {
    "button": false,
    "collapsed": false,
    "deletable": true,
    "new_sheet": false,
    "run_control": {
     "read_only": false
    }
   },
   "outputs": [],
   "source": [
    "# Show number of entries\n",
    "print len(df.index)"
   ]
  },
  {
   "cell_type": "code",
   "execution_count": null,
   "metadata": {
    "button": false,
    "collapsed": true,
    "deletable": true,
    "new_sheet": false,
    "run_control": {
     "read_only": false
    }
   },
   "outputs": [],
   "source": [
    "# Remove outliers\n",
    "districts = (1,2,3,4,5,6,7,8,9)\n",
    "df = df[df['district'].isin(districts)]"
   ]
  },
  {
   "cell_type": "code",
   "execution_count": null,
   "metadata": {
    "button": false,
    "collapsed": false,
    "deletable": true,
    "new_sheet": false,
    "run_control": {
     "read_only": false
    }
   },
   "outputs": [],
   "source": [
    "# Focus on graffiti reports\n",
    "graffiti_df = df[df['service_name']=='Graffiti']\n",
    "graffiti_df = graffiti_df[graffiti_df['source']!='Crew/Self Generated']"
   ]
  },
  {
   "cell_type": "code",
   "execution_count": null,
   "metadata": {
    "button": false,
    "collapsed": false,
    "deletable": true,
    "new_sheet": false,
    "run_control": {
     "read_only": false
    }
   },
   "outputs": [],
   "source": [
    "# Show number of graffiti reports\n",
    "print len(graffiti_df.index)"
   ]
  },
  {
   "cell_type": "code",
   "execution_count": null,
   "metadata": {
    "button": false,
    "collapsed": false,
    "deletable": true,
    "new_sheet": false,
    "run_control": {
     "read_only": false
    }
   },
   "outputs": [],
   "source": [
    "# Format timestamps\n",
    "graffiti_df.loc[:,'open_timestamp'] = pd.to_datetime(graffiti_df['requested_datetime'], errors='coerce')\n",
    "graffiti_df.loc[:,'closed_timestamp'] = pd.to_datetime(graffiti_df['closed_date'], errors='coerce')\n",
    "# Convert timestamps to dates\n",
    "graffiti_df.loc[:,'open_dt'] = pd.to_datetime(graffiti_df['requested_datetime'], errors='coerce').dt.date\n",
    "graffiti_df.loc[:,'closed_dt'] = pd.to_datetime(graffiti_df['closed_date'], errors='coerce').dt.date"
   ]
  },
  {
   "cell_type": "code",
   "execution_count": null,
   "metadata": {
    "button": false,
    "collapsed": false,
    "deletable": true,
    "new_sheet": false,
    "run_control": {
     "read_only": false
    }
   },
   "outputs": [],
   "source": [
    "# Graffiti reporting evolution (day)\n",
    "counts_day = graffiti_df.groupby(['open_dt']).size().to_frame(name='count').reset_index()\n",
    "\n",
    "trace = Scatter(x=counts_day['open_dt'], y=counts_day['count'], mode='lines')\n",
    "data = [trace]\n",
    "layout = Layout(\n",
    "    title='311 Graffiti reporting frequency',\n",
    "    yaxis=dict(title='Reports (count)')\n",
    ")\n",
    "fig = Figure(data=data, layout=layout)\n",
    "plotly.offline.iplot(fig, filename='graffiti-reporting-freq')"
   ]
  },
  {
   "cell_type": "code",
   "execution_count": null,
   "metadata": {
    "button": false,
    "collapsed": false,
    "deletable": true,
    "new_sheet": false,
    "run_control": {
     "read_only": false
    }
   },
   "outputs": [],
   "source": [
    "# Calculate duration between 'open' and 'close' for 'closed' graffiti reports\n",
    "\n",
    "graffiti_df = graffiti_df.dropna(subset=['closed_dt'])\n",
    "graffiti_df['duration'] = graffiti_df['closed_timestamp'] - graffiti_df['open_timestamp']\n",
    "graffiti_df['duration'] = graffiti_df['duration'].dt.components.days\n",
    "\n",
    "avg_duration = graffiti_df.groupby(['open_dt']).mean().reset_index()\n",
    "\n",
    "trace = Scatter(x=avg_duration['open_dt'], y=avg_duration['duration'], mode='lines')\n",
    "data = [trace]\n",
    "layout = Layout(\n",
    "    title=\"Duration to 'got it done' - Graffiti\",\n",
    "    yaxis=dict(title='Average duration')\n",
    ")\n",
    "fig = Figure(data=data, layout=layout)\n",
    "plotly.offline.iplot(fig, filename='graffiti-duration-avg')"
   ]
  }
 ],
 "metadata": {
  "kernelspec": {
   "display_name": "Python 2",
   "language": "python",
   "name": "python2"
  },
  "language_info": {
   "codemirror_mode": {
    "name": "ipython",
    "version": 2
   },
   "file_extension": ".py",
   "mimetype": "text/x-python",
   "name": "python",
   "nbconvert_exporter": "python",
   "pygments_lexer": "ipython2",
   "version": "2.7"
  }
 },
 "nbformat": 4,
 "nbformat_minor": 2
}
